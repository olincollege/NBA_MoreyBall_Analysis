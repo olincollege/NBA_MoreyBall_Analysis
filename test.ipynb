{
 "cells": [
  {
   "cell_type": "code",
   "execution_count": 1,
   "metadata": {
    "tags": []
   },
   "outputs": [
    {
     "output_type": "execute_result",
     "data": {
      "text/plain": [
       "          Rank Games_Played Minutes_Played   Field_Goal_Percent  \\\n",
       "2016.csv   1.0  82           19830          0.45799999999999996   \n",
       "2011.csv   1.0  82           19730          0.462                 \n",
       "2013p.csv  1.0  6.0          1440           0.415                 \n",
       "2017p.csv  1.0  6.0          1440           0.45399999999999996   \n",
       "2018.csv   1.0  82           19705          0.446                 \n",
       "2014p.csv  1.0  7.0          1680           0.45                  \n",
       "2012p.csv  1.0  6.0          1465           0.433                 \n",
       "2012.csv   1.0  66           16165          0.45399999999999996   \n",
       "2020.csv   1.0  67           16280          0.449                 \n",
       "2010p.csv  1.0  11.0         2640           0.462                 \n",
       "2011p.csv  1.0  12.0         2880           0.43200000000000005   \n",
       "2010.csv   1.0  82           19855          0.46799999999999997   \n",
       "2019.csv   1.0  82           19855          0.451                 \n",
       "2014.csv   1.0  82           19830          0.45799999999999996   \n",
       "2017.csv   1.0  82           19880          0.451                 \n",
       "2013.csv   1.0  82           19855          0.46399999999999997   \n",
       "2016p.csv  1.0  10.0         2425           0.414                 \n",
       "2015p.csv  1.0  16.0         3890           0.43                  \n",
       "2015.csv   1.0  82           19730          0.466                 \n",
       "\n",
       "          Average_Distance Field_Goals_Attempled_2PA              2PA_0-3  \\\n",
       "2016.csv   12.7             0.664                     0.326                 \n",
       "2011.csv   13.5             0.778                     0.233                 \n",
       "2013p.csv  12.9             0.735                     0.297                 \n",
       "2017p.csv  14.3             0.6940000000000001        0.252                 \n",
       "2018.csv   13.6             0.637                     0.27899999999999997   \n",
       "2014p.csv  13.4             0.722                     0.282                 \n",
       "2012p.csv  13.3             0.809                     0.265                 \n",
       "2012.csv   13.2             0.7509999999999999        0.27699999999999997   \n",
       "2020.csv   14.1             0.602                     0.29100000000000004   \n",
       "2010p.csv  13.2             0.691                     0.32299999999999995   \n",
       "2011p.csv  13.0             0.737                     0.303                 \n",
       "2010.csv   12.3             0.7859999999999999        0.29600000000000004   \n",
       "2019.csv   13.6             0.597                     0.332                 \n",
       "2014.csv   13.4             0.684                     0.263                 \n",
       "2017.csv   13.0             0.691                     0.331                 \n",
       "2013.csv   13.4             0.7140000000000001        0.281                 \n",
       "2016p.csv  14.0             0.613                     0.331                 \n",
       "2015p.csv  13.5             0.7040000000000001        0.268                 \n",
       "2015.csv   13.2             0.679                     0.29                  \n",
       "\n",
       "                      2PA_3-10            2PA_10-16               2PA_16+  \\\n",
       "2016.csv   0.121                0.078                0.138                  \n",
       "2011.csv   0.175                0.09699999999999999  0.27399999999999997    \n",
       "2013p.csv  0.156                0.091                0.192                  \n",
       "2017p.csv  0.121                0.129                0.192                  \n",
       "2018.csv   0.131                0.105                0.122                  \n",
       "2014p.csv  0.138                0.099                0.203                  \n",
       "2012p.csv  0.109                0.135                0.3                    \n",
       "2012.csv   0.153                0.07400000000000001  0.247                  \n",
       "2020.csv   0.155                0.09699999999999999  0.059000000000000004   \n",
       "2010p.csv  0.095                0.098                0.175                  \n",
       "2011p.csv  0.158                0.08                 0.196                  \n",
       "2010.csv   0.16699999999999998  0.087                0.237                  \n",
       "2019.csv   0.134                0.083                0.047                  \n",
       "2014.csv   0.174                0.102                0.145                  \n",
       "2017.csv   0.11699999999999999  0.092                0.151                  \n",
       "2013.csv   0.152                0.073                0.20800000000000002    \n",
       "2016p.csv  0.081                0.075                0.126                  \n",
       "2015p.csv  0.158                0.107                0.171                  \n",
       "2015.csv   0.158                0.08                 0.151                  \n",
       "\n",
       "          Field_Goals_Attempled_3PA       Field_Goals_2P              2P_0-3  \\\n",
       "2016.csv   0.336                     0.512                0.623                \n",
       "2011.csv   0.222                     0.494                0.649                \n",
       "2013p.csv  0.265                     0.456                0.596                \n",
       "2017p.csv  0.306                     0.515                0.634                \n",
       "2018.csv   0.363                     0.495                0.635                \n",
       "2014p.csv  0.278                     0.483                0.636                \n",
       "2012p.csv  0.191                     0.465                0.557                \n",
       "2012.csv   0.249                     0.48200000000000004  0.63                 \n",
       "2020.csv   0.39799999999999996       0.525                0.6579999999999999   \n",
       "2010p.csv  0.309                     0.514                0.612                \n",
       "2011p.csv  0.263                     0.484                0.612                \n",
       "2010.csv   0.214                     0.49700000000000005  0.638                \n",
       "2019.csv   0.40299999999999997       0.518                0.64                 \n",
       "2014.csv   0.316                     0.502                0.643                \n",
       "2017.csv   0.309                     0.501                0.616                \n",
       "2013.csv   0.28600000000000003       0.501                0.6779999999999999   \n",
       "2016p.csv  0.38799999999999996       0.436                0.509                \n",
       "2015p.csv  0.29600000000000004       0.45399999999999996  0.5920000000000001   \n",
       "2015.csv   0.321                     0.506                0.636                \n",
       "\n",
       "                        2P_0-6             2P_10-16                2P16+  \\\n",
       "2016.csv   0.377                0.431                0.415                 \n",
       "2011.csv   0.434                0.39                 0.436                 \n",
       "2013p.csv  0.473                0.37200000000000005  0.264                 \n",
       "2017p.csv  0.444                0.44799999999999995  0.45                  \n",
       "2018.csv   0.35100000000000003  0.39899999999999997  0.41100000000000003   \n",
       "2014p.csv  0.446                0.358                0.358                 \n",
       "2012p.csv  0.42                 0.435                0.413                 \n",
       "2012.csv   0.43                 0.397                0.373                 \n",
       "2020.csv   0.414                0.39399999999999996  0.376                 \n",
       "2010p.csv  0.525                0.42200000000000004  0.37799999999999995   \n",
       "2011p.csv  0.429                0.392                0.368                 \n",
       "2010.csv   0.435                0.41700000000000004  0.39399999999999996   \n",
       "2019.csv   0.35600000000000004  0.374                0.374                 \n",
       "2014.csv   0.409                0.419                0.413                 \n",
       "2017.csv   0.349                0.39399999999999996  0.429                 \n",
       "2013.csv   0.382                0.387                0.389                 \n",
       "2016p.csv  0.324                0.409                0.33299999999999996   \n",
       "2015p.csv  0.405                0.35200000000000004  0.345                 \n",
       "2015.csv   0.392                0.386                0.441                 \n",
       "\n",
       "                Field_Goals_3P  \n",
       "2016.csv   0.35                 \n",
       "2011.csv   0.35200000000000004  \n",
       "2013p.csv  0.302                \n",
       "2017p.csv  0.314                \n",
       "2018.csv   0.36                 \n",
       "2014p.csv  0.36200000000000004  \n",
       "2012p.csv  0.295                \n",
       "2012.csv   0.37                 \n",
       "2020.csv   0.33299999999999996  \n",
       "2010p.csv  0.345                \n",
       "2011p.csv  0.287                \n",
       "2010.csv   0.36                 \n",
       "2019.csv   0.35200000000000004  \n",
       "2014.csv   0.363                \n",
       "2017.csv   0.341                \n",
       "2013.csv   0.371                \n",
       "2016p.csv  0.37799999999999995  \n",
       "2015p.csv  0.375                \n",
       "2015.csv   0.38                 "
      ],
      "text/html": "<div>\n<style scoped>\n    .dataframe tbody tr th:only-of-type {\n        vertical-align: middle;\n    }\n\n    .dataframe tbody tr th {\n        vertical-align: top;\n    }\n\n    .dataframe thead th {\n        text-align: right;\n    }\n</style>\n<table border=\"1\" class=\"dataframe\">\n  <thead>\n    <tr style=\"text-align: right;\">\n      <th></th>\n      <th>Rank</th>\n      <th>Games_Played</th>\n      <th>Minutes_Played</th>\n      <th>Field_Goal_Percent</th>\n      <th>Average_Distance</th>\n      <th>Field_Goals_Attempled_2PA</th>\n      <th>2PA_0-3</th>\n      <th>2PA_3-10</th>\n      <th>2PA_10-16</th>\n      <th>2PA_16+</th>\n      <th>Field_Goals_Attempled_3PA</th>\n      <th>Field_Goals_2P</th>\n      <th>2P_0-3</th>\n      <th>2P_0-6</th>\n      <th>2P_10-16</th>\n      <th>2P16+</th>\n      <th>Field_Goals_3P</th>\n    </tr>\n  </thead>\n  <tbody>\n    <tr>\n      <th>2016.csv</th>\n      <td>1.0</td>\n      <td>82</td>\n      <td>19830</td>\n      <td>0.45799999999999996</td>\n      <td>12.7</td>\n      <td>0.664</td>\n      <td>0.326</td>\n      <td>0.121</td>\n      <td>0.078</td>\n      <td>0.138</td>\n      <td>0.336</td>\n      <td>0.512</td>\n      <td>0.623</td>\n      <td>0.377</td>\n      <td>0.431</td>\n      <td>0.415</td>\n      <td>0.35</td>\n    </tr>\n    <tr>\n      <th>2011.csv</th>\n      <td>1.0</td>\n      <td>82</td>\n      <td>19730</td>\n      <td>0.462</td>\n      <td>13.5</td>\n      <td>0.778</td>\n      <td>0.233</td>\n      <td>0.175</td>\n      <td>0.09699999999999999</td>\n      <td>0.27399999999999997</td>\n      <td>0.222</td>\n      <td>0.494</td>\n      <td>0.649</td>\n      <td>0.434</td>\n      <td>0.39</td>\n      <td>0.436</td>\n      <td>0.35200000000000004</td>\n    </tr>\n    <tr>\n      <th>2013p.csv</th>\n      <td>1.0</td>\n      <td>6.0</td>\n      <td>1440</td>\n      <td>0.415</td>\n      <td>12.9</td>\n      <td>0.735</td>\n      <td>0.297</td>\n      <td>0.156</td>\n      <td>0.091</td>\n      <td>0.192</td>\n      <td>0.265</td>\n      <td>0.456</td>\n      <td>0.596</td>\n      <td>0.473</td>\n      <td>0.37200000000000005</td>\n      <td>0.264</td>\n      <td>0.302</td>\n    </tr>\n    <tr>\n      <th>2017p.csv</th>\n      <td>1.0</td>\n      <td>6.0</td>\n      <td>1440</td>\n      <td>0.45399999999999996</td>\n      <td>14.3</td>\n      <td>0.6940000000000001</td>\n      <td>0.252</td>\n      <td>0.121</td>\n      <td>0.129</td>\n      <td>0.192</td>\n      <td>0.306</td>\n      <td>0.515</td>\n      <td>0.634</td>\n      <td>0.444</td>\n      <td>0.44799999999999995</td>\n      <td>0.45</td>\n      <td>0.314</td>\n    </tr>\n    <tr>\n      <th>2018.csv</th>\n      <td>1.0</td>\n      <td>82</td>\n      <td>19705</td>\n      <td>0.446</td>\n      <td>13.6</td>\n      <td>0.637</td>\n      <td>0.27899999999999997</td>\n      <td>0.131</td>\n      <td>0.105</td>\n      <td>0.122</td>\n      <td>0.363</td>\n      <td>0.495</td>\n      <td>0.635</td>\n      <td>0.35100000000000003</td>\n      <td>0.39899999999999997</td>\n      <td>0.41100000000000003</td>\n      <td>0.36</td>\n    </tr>\n    <tr>\n      <th>2014p.csv</th>\n      <td>1.0</td>\n      <td>7.0</td>\n      <td>1680</td>\n      <td>0.45</td>\n      <td>13.4</td>\n      <td>0.722</td>\n      <td>0.282</td>\n      <td>0.138</td>\n      <td>0.099</td>\n      <td>0.203</td>\n      <td>0.278</td>\n      <td>0.483</td>\n      <td>0.636</td>\n      <td>0.446</td>\n      <td>0.358</td>\n      <td>0.358</td>\n      <td>0.36200000000000004</td>\n    </tr>\n    <tr>\n      <th>2012p.csv</th>\n      <td>1.0</td>\n      <td>6.0</td>\n      <td>1465</td>\n      <td>0.433</td>\n      <td>13.3</td>\n      <td>0.809</td>\n      <td>0.265</td>\n      <td>0.109</td>\n      <td>0.135</td>\n      <td>0.3</td>\n      <td>0.191</td>\n      <td>0.465</td>\n      <td>0.557</td>\n      <td>0.42</td>\n      <td>0.435</td>\n      <td>0.413</td>\n      <td>0.295</td>\n    </tr>\n    <tr>\n      <th>2012.csv</th>\n      <td>1.0</td>\n      <td>66</td>\n      <td>16165</td>\n      <td>0.45399999999999996</td>\n      <td>13.2</td>\n      <td>0.7509999999999999</td>\n      <td>0.27699999999999997</td>\n      <td>0.153</td>\n      <td>0.07400000000000001</td>\n      <td>0.247</td>\n      <td>0.249</td>\n      <td>0.48200000000000004</td>\n      <td>0.63</td>\n      <td>0.43</td>\n      <td>0.397</td>\n      <td>0.373</td>\n      <td>0.37</td>\n    </tr>\n    <tr>\n      <th>2020.csv</th>\n      <td>1.0</td>\n      <td>67</td>\n      <td>16280</td>\n      <td>0.449</td>\n      <td>14.1</td>\n      <td>0.602</td>\n      <td>0.29100000000000004</td>\n      <td>0.155</td>\n      <td>0.09699999999999999</td>\n      <td>0.059000000000000004</td>\n      <td>0.39799999999999996</td>\n      <td>0.525</td>\n      <td>0.6579999999999999</td>\n      <td>0.414</td>\n      <td>0.39399999999999996</td>\n      <td>0.376</td>\n      <td>0.33299999999999996</td>\n    </tr>\n    <tr>\n      <th>2010p.csv</th>\n      <td>1.0</td>\n      <td>11.0</td>\n      <td>2640</td>\n      <td>0.462</td>\n      <td>13.2</td>\n      <td>0.691</td>\n      <td>0.32299999999999995</td>\n      <td>0.095</td>\n      <td>0.098</td>\n      <td>0.175</td>\n      <td>0.309</td>\n      <td>0.514</td>\n      <td>0.612</td>\n      <td>0.525</td>\n      <td>0.42200000000000004</td>\n      <td>0.37799999999999995</td>\n      <td>0.345</td>\n    </tr>\n    <tr>\n      <th>2011p.csv</th>\n      <td>1.0</td>\n      <td>12.0</td>\n      <td>2880</td>\n      <td>0.43200000000000005</td>\n      <td>13.0</td>\n      <td>0.737</td>\n      <td>0.303</td>\n      <td>0.158</td>\n      <td>0.08</td>\n      <td>0.196</td>\n      <td>0.263</td>\n      <td>0.484</td>\n      <td>0.612</td>\n      <td>0.429</td>\n      <td>0.392</td>\n      <td>0.368</td>\n      <td>0.287</td>\n    </tr>\n    <tr>\n      <th>2010.csv</th>\n      <td>1.0</td>\n      <td>82</td>\n      <td>19855</td>\n      <td>0.46799999999999997</td>\n      <td>12.3</td>\n      <td>0.7859999999999999</td>\n      <td>0.29600000000000004</td>\n      <td>0.16699999999999998</td>\n      <td>0.087</td>\n      <td>0.237</td>\n      <td>0.214</td>\n      <td>0.49700000000000005</td>\n      <td>0.638</td>\n      <td>0.435</td>\n      <td>0.41700000000000004</td>\n      <td>0.39399999999999996</td>\n      <td>0.36</td>\n    </tr>\n    <tr>\n      <th>2019.csv</th>\n      <td>1.0</td>\n      <td>82</td>\n      <td>19855</td>\n      <td>0.451</td>\n      <td>13.6</td>\n      <td>0.597</td>\n      <td>0.332</td>\n      <td>0.134</td>\n      <td>0.083</td>\n      <td>0.047</td>\n      <td>0.40299999999999997</td>\n      <td>0.518</td>\n      <td>0.64</td>\n      <td>0.35600000000000004</td>\n      <td>0.374</td>\n      <td>0.374</td>\n      <td>0.35200000000000004</td>\n    </tr>\n    <tr>\n      <th>2014.csv</th>\n      <td>1.0</td>\n      <td>82</td>\n      <td>19830</td>\n      <td>0.45799999999999996</td>\n      <td>13.4</td>\n      <td>0.684</td>\n      <td>0.263</td>\n      <td>0.174</td>\n      <td>0.102</td>\n      <td>0.145</td>\n      <td>0.316</td>\n      <td>0.502</td>\n      <td>0.643</td>\n      <td>0.409</td>\n      <td>0.419</td>\n      <td>0.413</td>\n      <td>0.363</td>\n    </tr>\n    <tr>\n      <th>2017.csv</th>\n      <td>1.0</td>\n      <td>82</td>\n      <td>19880</td>\n      <td>0.451</td>\n      <td>13.0</td>\n      <td>0.691</td>\n      <td>0.331</td>\n      <td>0.11699999999999999</td>\n      <td>0.092</td>\n      <td>0.151</td>\n      <td>0.309</td>\n      <td>0.501</td>\n      <td>0.616</td>\n      <td>0.349</td>\n      <td>0.39399999999999996</td>\n      <td>0.429</td>\n      <td>0.341</td>\n    </tr>\n    <tr>\n      <th>2013.csv</th>\n      <td>1.0</td>\n      <td>82</td>\n      <td>19855</td>\n      <td>0.46399999999999997</td>\n      <td>13.4</td>\n      <td>0.7140000000000001</td>\n      <td>0.281</td>\n      <td>0.152</td>\n      <td>0.073</td>\n      <td>0.20800000000000002</td>\n      <td>0.28600000000000003</td>\n      <td>0.501</td>\n      <td>0.6779999999999999</td>\n      <td>0.382</td>\n      <td>0.387</td>\n      <td>0.389</td>\n      <td>0.371</td>\n    </tr>\n    <tr>\n      <th>2016p.csv</th>\n      <td>1.0</td>\n      <td>10.0</td>\n      <td>2425</td>\n      <td>0.414</td>\n      <td>14.0</td>\n      <td>0.613</td>\n      <td>0.331</td>\n      <td>0.081</td>\n      <td>0.075</td>\n      <td>0.126</td>\n      <td>0.38799999999999996</td>\n      <td>0.436</td>\n      <td>0.509</td>\n      <td>0.324</td>\n      <td>0.409</td>\n      <td>0.33299999999999996</td>\n      <td>0.37799999999999995</td>\n    </tr>\n    <tr>\n      <th>2015p.csv</th>\n      <td>1.0</td>\n      <td>16.0</td>\n      <td>3890</td>\n      <td>0.43</td>\n      <td>13.5</td>\n      <td>0.7040000000000001</td>\n      <td>0.268</td>\n      <td>0.158</td>\n      <td>0.107</td>\n      <td>0.171</td>\n      <td>0.29600000000000004</td>\n      <td>0.45399999999999996</td>\n      <td>0.5920000000000001</td>\n      <td>0.405</td>\n      <td>0.35200000000000004</td>\n      <td>0.345</td>\n      <td>0.375</td>\n    </tr>\n    <tr>\n      <th>2015.csv</th>\n      <td>1.0</td>\n      <td>82</td>\n      <td>19730</td>\n      <td>0.466</td>\n      <td>13.2</td>\n      <td>0.679</td>\n      <td>0.29</td>\n      <td>0.158</td>\n      <td>0.08</td>\n      <td>0.151</td>\n      <td>0.321</td>\n      <td>0.506</td>\n      <td>0.636</td>\n      <td>0.392</td>\n      <td>0.386</td>\n      <td>0.441</td>\n      <td>0.38</td>\n    </tr>\n  </tbody>\n</table>\n</div>"
     },
     "metadata": {},
     "execution_count": 1
    }
   ],
   "source": [
    "from data_analysis import *\n",
    "\n",
    "#season_full_data(\"2010.csv\")\n",
    "team_summary(\"Atlanta Hawks\")"
   ]
  },
  {
   "cell_type": "code",
   "execution_count": 2,
   "metadata": {},
   "outputs": [
    {
     "output_type": "execute_result",
     "data": {
      "text/plain": [
       "['nan', 'nan', 'nan', 'nan', 'nan', 'nan', 'nan', 'nan', 'nan']"
      ]
     },
     "metadata": {},
     "execution_count": 2
    }
   ],
   "source": [
    "['nan']* 9"
   ]
  },
  {
   "cell_type": "code",
   "execution_count": 1,
   "metadata": {},
   "outputs": [
    {
     "output_type": "error",
     "ename": "NameError",
     "evalue": "name 'team_summary' is not defined",
     "traceback": [
      "\u001b[0;31m---------------------------------------------------------------------------\u001b[0m",
      "\u001b[0;31mNameError\u001b[0m                                 Traceback (most recent call last)",
      "\u001b[0;32m<ipython-input-1-a2219477c4a2>\u001b[0m in \u001b[0;36m<module>\u001b[0;34m\u001b[0m\n\u001b[0;32m----> 1\u001b[0;31m \u001b[0mteam_summary\u001b[0m\u001b[0;34m(\u001b[0m\u001b[0;34m\"hello\"\u001b[0m\u001b[0;34m)\u001b[0m\u001b[0;34m\u001b[0m\u001b[0;34m\u001b[0m\u001b[0m\n\u001b[0m",
      "\u001b[0;31mNameError\u001b[0m: name 'team_summary' is not defined"
     ]
    }
   ],
   "source": []
  },
  {
   "cell_type": "code",
   "execution_count": null,
   "metadata": {},
   "outputs": [],
   "source": []
  }
 ],
 "metadata": {
  "kernelspec": {
   "display_name": "Python 3",
   "language": "python",
   "name": "python3"
  },
  "language_info": {
   "codemirror_mode": {
    "name": "ipython",
    "version": 3
   },
   "file_extension": ".py",
   "mimetype": "text/x-python",
   "name": "python",
   "nbconvert_exporter": "python",
   "pygments_lexer": "ipython3",
   "version": "3.8.5-final"
  }
 },
 "nbformat": 4,
 "nbformat_minor": 4
}